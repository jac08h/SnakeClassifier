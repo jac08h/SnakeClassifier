{
 "cells": [
  {
   "cell_type": "code",
   "execution_count": 9,
   "metadata": {},
   "outputs": [
    {
     "name": "stdout",
     "output_type": "stream",
     "text": [
      "Defaulting to user installation because normal site-packages is not writeable\n",
      "Requirement already satisfied: voila in /home/jh/.local/lib/python3.8/site-packages (0.1.23)\n",
      "Requirement already satisfied: nbconvert<6,>=5.5.0 in /usr/lib/python3.8/site-packages (from voila) (5.6.1)\n",
      "Requirement already satisfied: async-generator in /home/jh/.local/lib/python3.8/site-packages (from voila) (1.10)\n",
      "Requirement already satisfied: jupyter-server<0.2.0,>=0.1.0 in /home/jh/.local/lib/python3.8/site-packages (from voila) (0.1.1)\n",
      "Requirement already satisfied: jupyterlab-pygments<0.2,>=0.1.0 in /home/jh/.local/lib/python3.8/site-packages (from voila) (0.1.1)\n",
      "Requirement already satisfied: pygments<3,>=2.4.1 in /usr/lib/python3.8/site-packages (from voila) (2.6.1)\n",
      "Requirement already satisfied: mistune<2,>=0.8.1 in /usr/lib/python3.8/site-packages (from nbconvert<6,>=5.5.0->voila) (0.8.4)\n",
      "Requirement already satisfied: jinja2>=2.4 in /usr/lib/python3.8/site-packages (from nbconvert<6,>=5.5.0->voila) (2.11.2)\n",
      "Requirement already satisfied: traitlets>=4.2 in /usr/lib/python3.8/site-packages (from nbconvert<6,>=5.5.0->voila) (4.3.3)\n",
      "Requirement already satisfied: jupyter_core in /usr/lib/python3.8/site-packages (from nbconvert<6,>=5.5.0->voila) (4.6.3)\n",
      "Requirement already satisfied: nbformat>=4.4 in /usr/lib/python3.8/site-packages (from nbconvert<6,>=5.5.0->voila) (5.0.6)\n",
      "Requirement already satisfied: entrypoints>=0.2.2 in /usr/lib/python3.8/site-packages (from nbconvert<6,>=5.5.0->voila) (0.3)\n",
      "Requirement already satisfied: bleach in /home/jh/.local/lib/python3.8/site-packages (from nbconvert<6,>=5.5.0->voila) (3.1.5)\n",
      "Requirement already satisfied: pandocfilters>=1.4.1 in /usr/lib/python3.8/site-packages (from nbconvert<6,>=5.5.0->voila) (1.4.2)\n",
      "Requirement already satisfied: testpath in /usr/lib/python3.8/site-packages (from nbconvert<6,>=5.5.0->voila) (0.4.4)\n",
      "Requirement already satisfied: defusedxml in /usr/lib/python3.8/site-packages (from nbconvert<6,>=5.5.0->voila) (0.6.0)\n",
      "Requirement already satisfied: tornado>=4 in /usr/lib/python3.8/site-packages (from jupyter-server<0.2.0,>=0.1.0->voila) (6.0.4)\n",
      "Requirement already satisfied: ipykernel in /usr/lib/python3.8/site-packages (from jupyter-server<0.2.0,>=0.1.0->voila) (5.3.4)\n",
      "Requirement already satisfied: ipython-genutils in /usr/lib/python3.8/site-packages (from jupyter-server<0.2.0,>=0.1.0->voila) (0.1.0)\n",
      "Requirement already satisfied: prometheus-client in /usr/lib/python3.8/site-packages (from jupyter-server<0.2.0,>=0.1.0->voila) (0.8.0)\n",
      "Requirement already satisfied: pyzmq>=17 in /usr/lib/python3.8/site-packages (from jupyter-server<0.2.0,>=0.1.0->voila) (19.0.1)\n",
      "Requirement already satisfied: jupyter-client>=5.3.1 in /usr/lib/python3.8/site-packages (from jupyter-server<0.2.0,>=0.1.0->voila) (6.1.6)\n",
      "Requirement already satisfied: terminado>=0.8.1 in /home/jh/.local/lib/python3.8/site-packages (from jupyter-server<0.2.0,>=0.1.0->voila) (0.8.3)\n",
      "Requirement already satisfied: Send2Trash in /usr/lib/python3.8/site-packages (from jupyter-server<0.2.0,>=0.1.0->voila) (1.5.0)\n",
      "Requirement already satisfied: MarkupSafe>=0.23 in /usr/lib/python3.8/site-packages (from jinja2>=2.4->nbconvert<6,>=5.5.0->voila) (1.1.1)\n",
      "Requirement already satisfied: packaging in /usr/lib/python3.8/site-packages (from bleach->nbconvert<6,>=5.5.0->voila) (20.4)\n",
      "Requirement already satisfied: six>=1.9.0 in /usr/lib/python3.8/site-packages (from bleach->nbconvert<6,>=5.5.0->voila) (1.15.0)\n",
      "Requirement already satisfied: webencodings in /home/jh/.local/lib/python3.8/site-packages (from bleach->nbconvert<6,>=5.5.0->voila) (0.5.1)\n",
      "Requirement already satisfied: ipython>=5.0.0 in /usr/lib/python3.8/site-packages (from ipykernel->jupyter-server<0.2.0,>=0.1.0->voila) (7.17.0)\n",
      "Requirement already satisfied: python-dateutil>=2.1 in /usr/lib/python3.8/site-packages (from jupyter-client>=5.3.1->jupyter-server<0.2.0,>=0.1.0->voila) (2.8.1)\n",
      "Requirement already satisfied: ptyprocess; os_name != \"nt\" in /home/jh/.local/lib/python3.8/site-packages (from terminado>=0.8.1->jupyter-server<0.2.0,>=0.1.0->voila) (0.6.0)\n",
      "Requirement already satisfied: pyparsing>=2.0.2 in /usr/lib/python3.8/site-packages (from packaging->bleach->nbconvert<6,>=5.5.0->voila) (2.4.7)\n",
      "\u001b[33mWARNING: You are using pip version 20.2.2; however, version 20.2.3 is available.\n",
      "You should consider upgrading via the '/usr/bin/python -m pip install --upgrade pip' command.\u001b[0m\n",
      "Enabling: voila\n",
      "- Writing config: /usr/etc/jupyter\n",
      "Traceback (most recent call last):\n",
      "  File \"/usr/bin/jupyter-serverextension\", line 33, in <module>\n",
      "    sys.exit(load_entry_point('notebook==6.1.1', 'console_scripts', 'jupyter-serverextension')())\n",
      "  File \"/usr/lib/python3.8/site-packages/jupyter_core/application.py\", line 270, in launch_instance\n",
      "    return super(JupyterApp, cls).launch_instance(argv=argv, **kwargs)\n",
      "  File \"/usr/lib/python3.8/site-packages/traitlets/config/application.py\", line 664, in launch_instance\n",
      "    app.start()\n",
      "  File \"/usr/lib/python3.8/site-packages/notebook/serverextensions.py\", line 294, in start\n",
      "    super(ServerExtensionApp, self).start()\n",
      "  File \"/usr/lib/python3.8/site-packages/jupyter_core/application.py\", line 259, in start\n",
      "    self.subapp.start()\n",
      "  File \"/usr/lib/python3.8/site-packages/notebook/serverextensions.py\", line 213, in start\n",
      "    self.toggle_server_extension(arg)\n",
      "  File \"/usr/lib/python3.8/site-packages/notebook/serverextensions.py\", line 184, in toggle_server_extension\n",
      "    toggle_serverextension_python(\n",
      "  File \"/usr/lib/python3.8/site-packages/notebook/serverextensions.py\", line 74, in toggle_serverextension_python\n",
      "    cm.update(\"jupyter_notebook_config\", cfg)\n",
      "  File \"/usr/lib/python3.8/site-packages/notebook/config_manager.py\", line 132, in update\n",
      "    self.set(section_name, data)\n",
      "  File \"/usr/lib/python3.8/site-packages/notebook/config_manager.py\", line 121, in set\n",
      "    f = io.open(filename, 'w', encoding='utf-8')\n",
      "PermissionError: [Errno 13] Permission denied: '/usr/etc/jupyter/jupyter_notebook_config.json'\n"
     ]
    }
   ],
   "source": [
    "!pip install voila\n",
    "!jupyter serverextension enable voila --sys-prefix"
   ]
  },
  {
   "cell_type": "code",
   "execution_count": 3,
   "metadata": {},
   "outputs": [],
   "source": [
    "from fastai.vision.all import *\n",
    "from fastai.vision.widgets import *"
   ]
  },
  {
   "cell_type": "markdown",
   "metadata": {},
   "source": [
    "# Coral Snake vs. Kingsnake Clasifier"
   ]
  },
  {
   "cell_type": "code",
   "execution_count": 5,
   "metadata": {},
   "outputs": [],
   "source": [
    "path = Path()\n",
    "learn_inf = load_learner(path/'export.pkl')\n",
    "btn_upload = widgets.FileUpload()\n",
    "out_pl = widgets.Output()\n",
    "lbl_pred = widgets.Label()"
   ]
  },
  {
   "cell_type": "code",
   "execution_count": 6,
   "metadata": {},
   "outputs": [],
   "source": [
    "def on_data_change(change):\n",
    "    lbl_pred.value = ''\n",
    "    img = PILImage.create(btn_upload.data[-1])\n",
    "    out_pl.clear_output()\n",
    "    with out_pl: display(img.to_thumb(128,128))\n",
    "    pred,pred_idx,probs = learn_inf.predict(img)\n",
    "    lbl_pred.value = f'Prediction: {pred}; Probability: {probs[pred_idx]:.04f}'"
   ]
  },
  {
   "cell_type": "code",
   "execution_count": 7,
   "metadata": {},
   "outputs": [],
   "source": [
    "btn_upload.observe(on_data_change, names=['data'])"
   ]
  },
  {
   "cell_type": "code",
   "execution_count": 8,
   "metadata": {},
   "outputs": [
    {
     "data": {
      "application/vnd.jupyter.widget-view+json": {
       "model_id": "d3d036af62a74971865124f53d2f9a51",
       "version_major": 2,
       "version_minor": 0
      },
      "text/plain": [
       "VBox(children=(Label(value='Select your snake!'), FileUpload(value={}, description='Upload'), Output(), Label(…"
      ]
     },
     "metadata": {},
     "output_type": "display_data"
    },
    {
     "data": {
      "text/html": [],
      "text/plain": [
       "<IPython.core.display.HTML object>"
      ]
     },
     "metadata": {},
     "output_type": "display_data"
    }
   ],
   "source": [
    "display(VBox([widgets.Label('Select your snake!'), btn_upload, out_pl, lbl_pred]))"
   ]
  }
 ],
 "metadata": {
  "kernelspec": {
   "display_name": "Python 3",
   "language": "python",
   "name": "python3"
  },
  "language_info": {
   "codemirror_mode": {
    "name": "ipython",
    "version": 3
   },
   "file_extension": ".py",
   "mimetype": "text/x-python",
   "name": "python",
   "nbconvert_exporter": "python",
   "pygments_lexer": "ipython3",
   "version": "3.8.5"
  }
 },
 "nbformat": 4,
 "nbformat_minor": 4
}
